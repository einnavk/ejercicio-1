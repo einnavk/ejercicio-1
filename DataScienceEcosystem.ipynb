{
 "cells": [
  {
   "cell_type": "markdown",
   "id": "c88856e3-637d-47c6-9eae-8621a3f207b3",
   "metadata": {
    "tags": []
   },
   "source": [
    "# Data Science Tools and Ecosystem"
   ]
  },
  {
   "cell_type": "markdown",
   "id": "fcd32c2e-008a-4d77-9605-1e297b2c9f9c",
   "metadata": {},
   "source": [
    "In this notebook, Data Science Tools and Ecosystem are summarized."
   ]
  },
  {
   "cell_type": "markdown",
   "id": "847bab6d-e3d4-4e24-999e-464a8ae4fd7c",
   "metadata": {
    "tags": []
   },
   "source": [
    " **Objectives:**\n",
    "    \n",
    "    * List popular languages for Data Science\n",
    "    * List popular libraries for Data Science\n",
    "    * List different tools for Data Science\n",
    "    * Learn to write simple calculations in Python"
   ]
  },
  {
   "cell_type": "markdown",
   "id": "108710f9-f0c2-4b69-989f-958e29a7326d",
   "metadata": {},
   "source": [
    "Some of the popular languages that Data Scientists use are:\n",
    "1. Python\n",
    "2. R\n",
    "3. SQL\n",
    "4. Java"
   ]
  },
  {
   "cell_type": "markdown",
   "id": "0ebf6427-c328-41f3-bb8d-28ce43920a3d",
   "metadata": {},
   "source": [
    "Some of the commonly used libraries used by Data Scientists include:\n",
    "1. Plotly\n",
    "2. Pandas\n",
    "3. NumPy\n"
   ]
  },
  {
   "cell_type": "markdown",
   "id": "6d815b3b-96c7-4994-a6e1-6acb76777cfa",
   "metadata": {
    "tags": []
   },
   "source": [
    "|Data Science Tools|\n",
    "----------------------\n",
    "Rstudio\n",
    "Apache Spark\n",
    "Jupyter notebooks"
   ]
  },
  {
   "cell_type": "markdown",
   "id": "1a651f7e-8a94-4f50-b26b-181d458cef9d",
   "metadata": {},
   "source": [
    "### Below are a few examples of evaluating arithmetic expressions in Python\n"
   ]
  },
  {
   "cell_type": "code",
   "execution_count": 1,
   "id": "c5c49e9a-34be-43f9-b209-23949a9b846e",
   "metadata": {
    "tags": []
   },
   "outputs": [
    {
     "data": {
      "text/plain": [
       "17"
      ]
     },
     "execution_count": 1,
     "metadata": {},
     "output_type": "execute_result"
    }
   ],
   "source": [
    "#This a simple arithmetic expression to mutiply then add integers\n",
    "(3*4)+5"
   ]
  },
  {
   "cell_type": "code",
   "execution_count": 6,
   "id": "b352c9a8-4d27-44ff-86af-89f2afd37e5f",
   "metadata": {
    "tags": []
   },
   "outputs": [
    {
     "data": {
      "text/plain": [
       "3.3333333333333335"
      ]
     },
     "execution_count": 6,
     "metadata": {},
     "output_type": "execute_result"
    }
   ],
   "source": [
    "# This will convert 200 minutes to hours by diving by 60\n",
    "200/60"
   ]
  },
  {
   "cell_type": "markdown",
   "id": "9602a4ea-7f7f-45fb-a307-baf64d617822",
   "metadata": {},
   "source": [
    "## Author\n",
    "Eva G. Osuna"
   ]
  },
  {
   "cell_type": "code",
   "execution_count": null,
   "id": "9fa27f00-8d09-4c98-bfd0-d9e99dfedbbe",
   "metadata": {},
   "outputs": [],
   "source": []
  }
 ],
 "metadata": {
  "kernelspec": {
   "display_name": "Python",
   "language": "python",
   "name": "conda-env-python-py"
  },
  "language_info": {
   "codemirror_mode": {
    "name": "ipython",
    "version": 3
   },
   "file_extension": ".py",
   "mimetype": "text/x-python",
   "name": "python",
   "nbconvert_exporter": "python",
   "pygments_lexer": "ipython3",
   "version": "3.7.12"
  }
 },
 "nbformat": 4,
 "nbformat_minor": 5
}
